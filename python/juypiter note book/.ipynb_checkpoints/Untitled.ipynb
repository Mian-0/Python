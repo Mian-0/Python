{
 "cells": [
  {
   "cell_type": "markdown",
   "id": "f93dddac",
   "metadata": {},
   "source": [
    "# Python ka chila with myself\n",
    "## How to use jupyter note book\n",
    "### Basics of python\n",
    "**01-Python first project**"
   ]
  },
  {
   "cell_type": "code",
   "execution_count": 2,
   "id": "e7f2f145",
   "metadata": {
    "scrolled": true
   },
   "outputs": [
    {
     "name": "stdout",
     "output_type": "stream",
     "text": [
      "789653485703468790546386543896983987654987656\n",
      "Hello My self\n",
      "hgtujhierguhiegauhijeagbujhhaeugjngbvegbvhth\n"
     ]
    }
   ],
   "source": [
    "print(2+789653485703468790546386543896983987654987654)\n",
    "print(\"Hello My self\")\n",
    "print(\"hgtujhierguhiegauhijeagbujhhaeugjngbvegbvhth\")\n"
   ]
  },
  {
   "cell_type": "markdown",
   "id": "1dc325d3",
   "metadata": {},
   "source": [
    "**02-Opreators**"
   ]
  },
  {
   "cell_type": "code",
   "execution_count": 4,
   "id": "b27a4968",
   "metadata": {
    "scrolled": true
   },
   "outputs": [
    {
     "name": "stdout",
     "output_type": "stream",
     "text": [
      "134\n",
      "0\n",
      "4489\n",
      "1.0\n",
      "0\n",
      "1\n",
      "222337020242360576812569226538683753874082408437758291741262115823894811650848346334502642370010973465496690788650052277723\n",
      "3.0\n"
     ]
    }
   ],
   "source": [
    "print(6+7)  #Addition\n",
    "print(6-7)  #Subtraction\n",
    "print(6*7)  #Multipilcation\n",
    "print(6/7)  #Division For Floating\n",
    "print(7%7)  #Remainder\n",
    "print(7//6) #Division For Integer\n",
    "print(6**7) #Power or Exponent\n",
    "\n",
    "#How it works\n",
    "print(1+2-3*4/5%6//7**8) #Mixed Equation"
   ]
  },
  {
   "cell_type": "markdown",
   "id": "bc4ee097",
   "metadata": {},
   "source": [
    "*PEMDAS\n",
    "Parenthesis , Exponents , Multipy , Divide , Addition , Subtraction\n",
    "Left To Right Sequence For Multipilcation , Division & Addition , Subtraction*"
   ]
  },
  {
   "cell_type": "markdown",
   "id": "28362abc",
   "metadata": {},
   "source": [
    "**03-Strings**"
   ]
  },
  {
   "cell_type": "code",
   "execution_count": 7,
   "id": "20dbfbe9",
   "metadata": {},
   "outputs": [
    {
     "name": "stdout",
     "output_type": "stream",
     "text": [
      "Hello My self\n",
      "LEarn\n",
      "Test For Single Quotes\n",
      "Test For Double Quotes\n",
      "Test For Triple Quotes\n",
      " What's up   ?\n"
     ]
    }
   ],
   "source": [
    "print(\"Hello My self\")\n",
    "print(\"LEarn\")\n",
    "print('Test For Single Quotes')\n",
    "print(\"Test For Double Quotes\")\n",
    "print('''Test For Triple Quotes''')\n",
    "print(\"What's up   ?\" )"
   ]
  },
  {
   "cell_type": "markdown",
   "id": "4783489a",
   "metadata": {},
   "source": [
    "**04-Strings**"
   ]
  },
  {
   "cell_type": "code",
   "execution_count": null,
   "id": "59e7a08f",
   "metadata": {},
   "outputs": [],
   "source": [
    "print(\"My self okay\") #Now This Line Of Code Has Been Ignored By Python\n",
    "print(1+5)\n",
    "print(\"What A Weather Today\")"
   ]
  },
  {
   "cell_type": "markdown",
   "id": "97400e15",
   "metadata": {},
   "source": [
    "**05-Variables**"
   ]
  },
  {
   "cell_type": "code",
   "execution_count": null,
   "id": "8e46bceb",
   "metadata": {},
   "outputs": [],
   "source": [
    "# Variables:Objects Contaning Spefic Value\n",
    "x = 99 #Numeric or integer  Variable\n",
    "print(x)\n",
    "\n",
    "y=\"WE are here guys\" #String Variable\n",
    "print(y)\n",
    "\n",
    "\n",
    "#Types of variable\n",
    "type(x)\n",
    "print(type(x))\n",
    "\n",
    "print(type(y))\n",
    "\n",
    "# Rules To assing a variable.\n",
    "# 1- The variable should contain letters, numbers or underscores.\n",
    "# 2- Do not start with numbers.\n",
    "# 3- Spaces are not allowed.\n",
    "# 4- Do not use keyword used in functions. (break, mean, media, test etc.)\n",
    "# 5- Short and descriptive.\n",
    "# 6- Case senstivity (lowercase, uppercase letters, lowercase letters should be used).\n",
    "\n",
    "\n",
    "fruit_basket = 8\n",
    "fruit_basket = \"Mangoes\"\n",
    "del fruit_basket\n",
    "print(type(fruit_basket))\n",
    "print(fruit_basket)"
   ]
  },
  {
   "cell_type": "markdown",
   "id": "781a69f6",
   "metadata": {},
   "source": [
    "**06-input Variables**"
   ]
  },
  {
   "cell_type": "code",
   "execution_count": null,
   "id": "3f487d46",
   "metadata": {},
   "outputs": [],
   "source": [
    "fruit_basket = \"Mangoes\"\n",
    "print(fruit_basket)\n",
    "\n",
    "#input function Simple Edition\n",
    "fruit_basket = input(\"Apko Konsa phall Pasand Hai. \")\n",
    "print(fruit_basket) \n",
    "\n",
    "#input function of Special Edition\n",
    "name = input(\"Enter Your Name\")\n",
    "greetings = \"Nice To Meet You\"\n",
    "print(greetings, name)\n",
    "\n",
    "#Another Way  Of Special Edition \n",
    "name = input(\"Enter Your Name\")\n",
    "print(\"Nice TO Meet You\", name)\n",
    "\n",
    "#3rd way of Special Edtion\n",
    "name = input(\"What is Your Name\")\n",
    "age = input(\"How Old Are You\")\n",
    "greetings = \"Hello!\"\n",
    "\n",
    "print(greetings, name, \", You Are Stil Young\")"
   ]
  },
  {
   "cell_type": "markdown",
   "id": "c43d62a6",
   "metadata": {},
   "source": [
    "**07-Conditional logics**"
   ]
  },
  {
   "cell_type": "code",
   "execution_count": null,
   "id": "6c3b31b0",
   "metadata": {},
   "outputs": [],
   "source": [
    "#logical oprators are either \"true or false\" or \"yes or no\" or \"0 or 1\"\n",
    "# equal to                     ==\n",
    "# not equal to                 !=\n",
    "# less than                    <\n",
    "# greater than                 >\n",
    "# less than and equal to       <=\n",
    "# greater than and equal to    >=\n",
    "\n",
    "#is 4 equal to 4?\n",
    "print(4==4)\n",
    "print(45!=4)\n",
    "print(1<3)\n",
    "print(8>9)\n",
    "print(9<=4)\n",
    "print(7>=4)\n",
    "\n",
    "# applictaion of logical oprators\n",
    "# hammad_age=4\n",
    "# age_at_School=5\n",
    "# print(hammad_age==age_at_School)\n",
    "\n",
    "#input oprator and logicals \n",
    "age_at_School=5\n",
    "hammad_age=input(\"how old is hammad\")\n",
    "hammad_age=int(hammad_age)\n",
    "print(hammad_age>=age_at_School)"
   ]
  },
  {
   "cell_type": "markdown",
   "id": "64c05c8a",
   "metadata": {},
   "source": [
    "**08-Type Conversion**"
   ]
  },
  {
   "cell_type": "code",
   "execution_count": null,
   "id": "34812fa1",
   "metadata": {},
   "outputs": [],
   "source": [
    "# x = 10          #Integer\n",
    "# y = 10.2        #float\n",
    "# z = \"Hello\"     #string\n",
    "\n",
    "# #implicit type conversion\n",
    "# x = x+y\n",
    "# print(x, type(x))\n",
    "\n",
    "\n",
    "# #explicit type conversion\n",
    "# age = input(\"what is your age? \")\n",
    "# # age = int(age)\n",
    "# print(age, type(int(age)))\n",
    "\n",
    "# name\n",
    "name = input(\"what is your Name? \")\n",
    "print(name, type(str(name)))"
   ]
  },
  {
   "cell_type": "markdown",
   "id": "9d9fdd69",
   "metadata": {},
   "source": [
    "**09-if, else, elif**"
   ]
  },
  {
   "cell_type": "code",
   "execution_count": null,
   "id": "887122f9",
   "metadata": {},
   "outputs": [],
   "source": [
    "age = input(\"What is your age  9\")\n",
    "required_age = 5\n",
    "age = int(age)\n",
    "# Hammad can go to school?\n",
    "\n",
    "if age==required_age:\n",
    "    print(\"Congratulations! hammad can join the school.\")\n",
    "elif age > required_age:\n",
    "    print(\"You Should have to Join a secondary School\")    \n",
    "elif age <= 2:\n",
    "    print(\"You should take care of your baby.\")    \n",
    "else:\n",
    "    print(\"You can not go to School\")"
   ]
  },
  {
   "cell_type": "markdown",
   "id": "b3e2f2aa",
   "metadata": {},
   "source": [
    "**10-Functions**"
   ]
  },
  {
   "cell_type": "code",
   "execution_count": null,
   "id": "c3d4e682",
   "metadata": {},
   "outputs": [],
   "source": [
    "# Defining a function \n",
    "\n",
    "from cgitb import text\n",
    "\n",
    "\n",
    "# def print_codanics():\n",
    "#     print(\"We are Learing With Ammar\")\n",
    "#     print(\"We are Learing With Ammar\")\n",
    "#     print(\"We are Learing With Ammar\")\n",
    "\n",
    "# print_codanics()\n",
    "\n",
    "# 2\n",
    "# def print_codaincs():\n",
    "#     text = \"We are Learing With Ammar in codanics youtube channel\"\n",
    "#     print(text)\n",
    "#     print(text)\n",
    "#     print(text)\n",
    "\n",
    "# print_codaincs()    \n",
    "\n",
    "# 3\n",
    "# def print_codaincs(text):\n",
    "#     print(text)\n",
    "#     print(text)\n",
    "#     print(text)\n",
    "\n",
    "# print_codaincs(\"We are Learing With Ammar in codanics youtube channel\")   \n",
    "\n",
    "# defing a function with if, elif, else statements.\n",
    "\n",
    "# def school_calculator():\n",
    "#     n = input(\"What is your name \")\n",
    "#     age = input(\"What is your age \")\n",
    "#     age = int(age)\n",
    "#     if age==5:\n",
    "#         print(n, \"can join the school\")\n",
    "#     elif age>5:\n",
    "#         print(n, \"should go to a higher school\")\n",
    "#     else:\n",
    "#         print(n, \"is still a baby\")\n",
    "\n",
    "# school_calculator()\n",
    "\n",
    "\n",
    "# Defining a function of future\n",
    "\n",
    "def future_age(age):\n",
    "    new_age=age+2\n",
    "    print(new_age)\n",
    "\n",
    "future_age(13.5)"
   ]
  },
  {
   "cell_type": "markdown",
   "id": "e2e9140a",
   "metadata": {},
   "source": [
    "**11-Loops**"
   ]
  },
  {
   "cell_type": "code",
   "execution_count": null,
   "id": "266ad7fb",
   "metadata": {},
   "outputs": [],
   "source": [
    "#while and For loops \n",
    " \n",
    " #while loops\n",
    "# x=1\n",
    "# while (x<=5):\n",
    "#     print(x)\n",
    "#     x=x+1\n",
    "\n",
    "#For loop \n",
    "# for x in range(4,11):\n",
    "#     print(x)\n",
    "\n",
    "#array\n",
    "days = [\"Mon\", \"Tue\", \"Wed\", \"Thu\", \"Fri\", \"Sat\", \"Sun\"]\n",
    "\n",
    "for d in days:\n",
    "    # if (d==\"Fri\"):break #loop stops\n",
    "    if (d==\"Fri\"):continue #Skips d\n",
    "    print(d)"
   ]
  },
  {
   "cell_type": "code",
   "execution_count": null,
   "id": "1b93935b",
   "metadata": {},
   "outputs": [],
   "source": [
    "**12-libraries**"
   ]
  },
  {
   "cell_type": "code",
   "execution_count": null,
   "id": "6473cba8",
   "metadata": {},
   "outputs": [],
   "source": []
  }
 ],
 "metadata": {
  "kernelspec": {
   "display_name": "Python 3 (ipykernel)",
   "language": "python",
   "name": "python3"
  },
  "language_info": {
   "codemirror_mode": {
    "name": "ipython",
    "version": 3
   },
   "file_extension": ".py",
   "mimetype": "text/x-python",
   "name": "python",
   "nbconvert_exporter": "python",
   "pygments_lexer": "ipython3",
   "version": "3.9.7"
  }
 },
 "nbformat": 4,
 "nbformat_minor": 5
}
