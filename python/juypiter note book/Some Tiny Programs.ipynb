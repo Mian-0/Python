{
 "cells": [
  {
   "cell_type": "markdown",
   "id": "c72b2c41",
   "metadata": {},
   "source": [
    "# Amstrong Number Program"
   ]
  },
  {
   "cell_type": "code",
   "execution_count": 22,
   "id": "81db99f1",
   "metadata": {},
   "outputs": [
    {
     "name": "stdout",
     "output_type": "stream",
     "text": [
      "Enter Only three Digits Please! 153\n",
      "It is an armstrong number\n"
     ]
    }
   ],
   "source": [
    "num = input(\"Enter Only three Digits Please! \")\n",
    "num = str(num)\n",
    "\n",
    "fourmula = int(num[0])**3+int(num[1])**3+int(num[2])**3\n",
    "num = int(num)\n",
    "\n",
    "if fourmula==num:\n",
    "    print(\"It is an armstrong number\")\n",
    "else:\n",
    "    print(\"It is not an armstrong number\")"
   ]
  },
  {
   "cell_type": "markdown",
   "id": "e8910a69",
   "metadata": {},
   "source": [
    "# Prime Number Program"
   ]
  },
  {
   "cell_type": "code",
   "execution_count": 21,
   "id": "73cbc06c",
   "metadata": {},
   "outputs": [
    {
     "name": "stdout",
     "output_type": "stream",
     "text": [
      "Enter Your Positive Number PLease!  7\n",
      "7 Is is a prime number\n"
     ]
    }
   ],
   "source": [
    "num = int(input(\"Enter Your Positive Number PLease!  \"))\n",
    "if num>1:\n",
    "    for i in range(2,num):\n",
    "        if num % 2 == 0:\n",
    "            print(num, \"Is not a prime number\")\n",
    "        else:\n",
    "            print(num, \"Is is a prime number\")\n",
    "        break\n",
    "else: \n",
    "    print(num, \"Is not a prime number\") "
   ]
  },
  {
   "cell_type": "markdown",
   "id": "51194216",
   "metadata": {},
   "source": [
    "# Even Odd Program"
   ]
  },
  {
   "cell_type": "code",
   "execution_count": 36,
   "id": "65f95022",
   "metadata": {},
   "outputs": [
    {
     "name": "stdout",
     "output_type": "stream",
     "text": [
      "Enter Your Positive Number PLease!  2\n",
      "2 This Is an Even Number\n"
     ]
    }
   ],
   "source": [
    "num = int(input(\"Enter Your Positive Number PLease!  \"))\n",
    "if num % 2 == 0:\n",
    "    print(num,\"This Is an Even Number\")\n",
    "else: \n",
    "    print(num,\"This Is an Odd Number\")"
   ]
  },
  {
   "cell_type": "markdown",
   "id": "5a4bec48",
   "metadata": {},
   "source": [
    "# Triangle Program"
   ]
  },
  {
   "cell_type": "code",
   "execution_count": 75,
   "id": "f9403a9f",
   "metadata": {},
   "outputs": [
    {
     "name": "stdout",
     "output_type": "stream",
     "text": [
      "          * \n",
      "        * * * \n",
      "      * * * * * \n",
      "    * * * * * * * \n",
      "  * * * * * * * * * \n",
      "* * * * * * * * * * * \n"
     ]
    }
   ],
   "source": [
    "rows = 6\n",
    "rows = int(rows)\n",
    "k = 0\n",
    "\n",
    "\n",
    "for i in range(1,rows+1):\n",
    "    for space in range(1, (rows-i)+1):\n",
    "        print(end=\"  \")\n",
    "        \n",
    "    while k!=(2*i-1):\n",
    "        print(\"* \", end=\"\")\n",
    "        k += 1\n",
    "        \n",
    "    k = 0 \n",
    "    print()"
   ]
  }
 ],
 "metadata": {
  "kernelspec": {
   "display_name": "Python 3 (ipykernel)",
   "language": "python",
   "name": "python3"
  },
  "language_info": {
   "codemirror_mode": {
    "name": "ipython",
    "version": 3
   },
   "file_extension": ".py",
   "mimetype": "text/x-python",
   "name": "python",
   "nbconvert_exporter": "python",
   "pygments_lexer": "ipython3",
   "version": "3.9.7"
  }
 },
 "nbformat": 4,
 "nbformat_minor": 5
}
